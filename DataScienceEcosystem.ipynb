{
 "cells": [
  {
   "cell_type": "markdown",
   "id": "d31b9380-4dde-4c32-88e4-761b5ab687d8",
   "metadata": {},
   "source": [
    "# Data Science Tools and Ecosystem "
   ]
  },
  {
   "cell_type": "markdown",
   "id": "e826de3b-0754-4f26-a26d-c4c760912333",
   "metadata": {},
   "source": [
    "## In this notebook, Data Science Tools and Ecosystem are summarized."
   ]
  },
  {
   "cell_type": "markdown",
   "id": "aec264f3-392b-4b13-9a82-6c7bbe614f7d",
   "metadata": {},
   "source": [
    "### **Objectives:**  \n",
    "- List popular languages for Data Science.\n",
    "- Commonly used libraries in Data Science.\n",
    "- Development Environments for Data Science.\n",
    "- Example of multiplying and adding numbers.\n",
    "- Example of time calculation.  "
   ]
  },
  {
   "cell_type": "markdown",
   "id": "35f9370a-296b-4038-9c5f-94250bcc6ad2",
   "metadata": {},
   "source": [
    "### Some of the popular languages that Data Scientist use are:  \n",
    "1. R.\n",
    "2. Python.\n",
    "3. Conda."
   ]
  },
  {
   "cell_type": "markdown",
   "id": "f1bd238d-82c0-4c93-abae-e4b742f479be",
   "metadata": {},
   "source": [
    "### Some of the commonly used libraries used by Data Scientist include:  \n",
    "1. Numpy\n",
    "2. Matplotlib\n",
    "3. Pandas"
   ]
  },
  {
   "cell_type": "markdown",
   "id": "912e3923-939f-47fc-a421-6e97a690f181",
   "metadata": {},
   "source": [
    "| **Data Science Tools** |\n",
    "| -----------------------|\n",
    "|        Jupyter         |\n",
    "|        RStudio         |\n",
    "|    Apache Zeppelin     |"
   ]
  },
  {
   "cell_type": "markdown",
   "id": "fd2cb16f-bc4d-4c21-8fec-ae4e34199f37",
   "metadata": {},
   "source": [
    "### Below are a few examples of evaluating aithmetic expressions in Python"
   ]
  },
  {
   "cell_type": "markdown",
   "id": "d3095ce9-6824-49d0-8a65-029ccfdab969",
   "metadata": {},
   "source": [
    "#### This is a simple arithmetic expression to multiply then add integers"
   ]
  },
  {
   "cell_type": "code",
   "execution_count": 2,
   "id": "0da429fa-1be3-4b3b-9309-839244a2658e",
   "metadata": {},
   "outputs": [
    {
     "data": {
      "text/plain": [
       "17"
      ]
     },
     "execution_count": 2,
     "metadata": {},
     "output_type": "execute_result"
    }
   ],
   "source": [
    "(3*4)+5"
   ]
  },
  {
   "cell_type": "markdown",
   "id": "703e7923-b6f5-47db-bd3d-96ca284e0f38",
   "metadata": {},
   "source": [
    "#### This will convert 200 minutes to hours by diving by 60."
   ]
  },
  {
   "cell_type": "code",
   "execution_count": 3,
   "id": "91bc6ff2-cbf2-4b9e-8174-d13e0bd51bcf",
   "metadata": {},
   "outputs": [
    {
     "data": {
      "text/plain": [
       "3.3333333333333335"
      ]
     },
     "execution_count": 3,
     "metadata": {},
     "output_type": "execute_result"
    }
   ],
   "source": [
    "float(200/60)"
   ]
  },
  {
   "cell_type": "markdown",
   "id": "51f3169f-57b5-4ca3-b829-5ea374430cf1",
   "metadata": {},
   "source": [
    "## Author: \n",
    "Mariana Soto C."
   ]
  },
  {
   "cell_type": "code",
   "execution_count": null,
   "id": "e28807d3-f2fe-4fc9-aa09-89f381e1d616",
   "metadata": {},
   "outputs": [],
   "source": []
  }
 ],
 "metadata": {
  "kernelspec": {
   "display_name": "Python 3 (ipykernel)",
   "language": "python",
   "name": "python3"
  },
  "language_info": {
   "codemirror_mode": {
    "name": "ipython",
    "version": 3
   },
   "file_extension": ".py",
   "mimetype": "text/x-python",
   "name": "python",
   "nbconvert_exporter": "python",
   "pygments_lexer": "ipython3",
   "version": "3.12.4"
  }
 },
 "nbformat": 4,
 "nbformat_minor": 5
}
